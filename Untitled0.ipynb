{
  "nbformat": 4,
  "nbformat_minor": 0,
  "metadata": {
    "colab": {
      "provenance": [],
      "authorship_tag": "ABX9TyN2/0z+LdP2UU8yl+F/L8yi",
      "include_colab_link": true
    },
    "kernelspec": {
      "name": "python3",
      "display_name": "Python 3"
    },
    "language_info": {
      "name": "python"
    }
  },
  "cells": [
    {
      "cell_type": "markdown",
      "metadata": {
        "id": "view-in-github",
        "colab_type": "text"
      },
      "source": [
        "<a href=\"https://colab.research.google.com/github/malaygathani/PRO-C143-Student-Boilerplate/blob/master/Untitled0.ipynb\" target=\"_parent\"><img src=\"https://colab.research.google.com/assets/colab-badge.svg\" alt=\"Open In Colab\"/></a>"
      ]
    },
    {
      "cell_type": "code",
      "execution_count": null,
      "metadata": {
        "id": "9ni2Hf6jMqOT"
      },
      "outputs": [],
      "source": []
    },
    {
      "cell_type": "code",
      "source": [
        "total = 0\n",
        "print(\"Enter marks obtained in all 8 subjects -\")\n",
        "for i in range(82):\n",
        "  score = int(input())\n",
        "  total += score\n",
        "\n",
        "  average = total/8\n",
        "\n",
        "  print(f\"Average Marks -{average}\")"
      ],
      "metadata": {
        "colab": {
          "base_uri": "https://localhost:8080/"
        },
        "id": "8paD6kSIMsRa",
        "outputId": "4cdbfba8-0bc6-4c44-f130-87f459835d4c"
      },
      "execution_count": null,
      "outputs": [
        {
          "output_type": "stream",
          "name": "stdout",
          "text": [
            "Enter marks obtained in all 8 subjects -\n",
            "99\n",
            "Average Marks -12.375\n",
            "85\n",
            "Average Marks -23.0\n",
            "23\n",
            "Average Marks -25.875\n",
            "17\n",
            "Average Marks -28.0\n",
            "19\n",
            "Average Marks -30.375\n",
            "1\n",
            "Average Marks -30.5\n",
            "256595\n",
            "Average Marks -32104.875\n"
          ]
        }
      ]
    },
    {
      "cell_type": "code",
      "source": [
        "print(\"CALCULATOR\")\n",
        "print(\"1. Addition\")\n",
        "print(\"2. subtraction\")\n",
        "print(\"3.Multiplication \")\n",
        "print(\"4. division\")\n",
        "choice = int(input(\"Enter your choice(1,2,3,4):\"))\n",
        "if(choice >=1 and choice <=4):\n",
        "  print(\"Enter two numbers:\")\n",
        "  number_1 = int(input(\"Enter the first number -\"))\n",
        "  number_2 = int(input(\"Enter the second number -\"))\n",
        "\n",
        "  if choice ==1:\n",
        "    print(f\"result -{number_1 +number_2}\")\n",
        "  elif choice ==2:\n",
        "    print(f\"result -{number_1-number_2}\")\n",
        "  elif choice ==3:\n",
        "    print(f\"result -{number_1*number_2}\")\n",
        "  else:\n",
        "    print(f\"result -{number_1/number_2}\")\n",
        "else:\n",
        "  print(\"Incorrect Input!\")"
      ],
      "metadata": {
        "id": "vEPaWDrzNsBD"
      },
      "execution_count": null,
      "outputs": []
    }
  ]
}